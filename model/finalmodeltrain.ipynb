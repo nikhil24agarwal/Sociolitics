{
 "cells": [
  {
   "cell_type": "code",
   "execution_count": 1,
   "metadata": {
    "colab": {
     "base_uri": "https://localhost:8080/"
    },
    "id": "aWmTzAekSY06",
    "outputId": "ba71b4f3-f908-480d-d92a-06c322022ab1"
   },
   "outputs": [
    {
     "name": "stdout",
     "output_type": "stream",
     "text": [
      "Mounted at /content/gdrive\n"
     ]
    }
   ],
   "source": [
    "from google.colab import drive\n",
    "drive.mount('/content/gdrive')"
   ]
  },
  {
   "cell_type": "code",
   "execution_count": 2,
   "metadata": {
    "id": "b9gHIdzQSI_t"
   },
   "outputs": [],
   "source": [
    "import pandas as pd\n",
    "import matplotlib.pyplot as plt\n",
    "import pickle"
   ]
  },
  {
   "cell_type": "code",
   "execution_count": 3,
   "metadata": {
    "id": "bFWYKzc5Vzl0"
   },
   "outputs": [],
   "source": [
    "from tqdm import tqdm\n",
    "import re\n",
    "from sklearn.model_selection import train_test_split"
   ]
  },
  {
   "cell_type": "code",
   "execution_count": 4,
   "metadata": {
    "id": "8pr7-uClXjux"
   },
   "outputs": [],
   "source": [
    "from keras.preprocessing.text import Tokenizer\n",
    "from keras.preprocessing.sequence import pad_sequences"
   ]
  },
  {
   "cell_type": "code",
   "execution_count": 5,
   "metadata": {
    "id": "VW5WYo0espLy"
   },
   "outputs": [],
   "source": [
    "from keras.models import Sequential, load_model\n",
    "from keras.layers import Dense, Embedding, LSTM, Dropout"
   ]
  },
  {
   "cell_type": "code",
   "execution_count": null,
   "metadata": {
    "id": "yyDDANw5SI_1"
   },
   "outputs": [],
   "source": [
    "df = pd.read_csv(\"/content/gdrive/My Drive/Project/English_data90k.csv\") "
   ]
  },
  {
   "cell_type": "code",
   "execution_count": null,
   "metadata": {
    "colab": {
     "base_uri": "https://localhost:8080/",
     "height": 197
    },
    "id": "bMszyLvaSI_7",
    "outputId": "9f3c1cb3-213e-48f8-a86c-069d77c135f1"
   },
   "outputs": [
    {
     "data": {
      "text/html": [
       "<div>\n",
       "<style scoped>\n",
       "    .dataframe tbody tr th:only-of-type {\n",
       "        vertical-align: middle;\n",
       "    }\n",
       "\n",
       "    .dataframe tbody tr th {\n",
       "        vertical-align: top;\n",
       "    }\n",
       "\n",
       "    .dataframe thead th {\n",
       "        text-align: right;\n",
       "    }\n",
       "</style>\n",
       "<table border=\"1\" class=\"dataframe\">\n",
       "  <thead>\n",
       "    <tr style=\"text-align: right;\">\n",
       "      <th></th>\n",
       "      <th>senti</th>\n",
       "      <th>text</th>\n",
       "    </tr>\n",
       "  </thead>\n",
       "  <tbody>\n",
       "    <tr>\n",
       "      <th>0</th>\n",
       "      <td>1</td>\n",
       "      <td>pretty awesome place it was neat being within ...</td>\n",
       "    </tr>\n",
       "    <tr>\n",
       "      <th>1</th>\n",
       "      <td>0</td>\n",
       "      <td>the people who gave this place one star were r...</td>\n",
       "    </tr>\n",
       "    <tr>\n",
       "      <th>2</th>\n",
       "      <td>0</td>\n",
       "      <td>wow this place is pure evil i went here to att...</td>\n",
       "    </tr>\n",
       "    <tr>\n",
       "      <th>3</th>\n",
       "      <td>2</td>\n",
       "      <td>the tea here is delicious i got rose tea the f...</td>\n",
       "    </tr>\n",
       "    <tr>\n",
       "      <th>4</th>\n",
       "      <td>0</td>\n",
       "      <td>dissapointedi was waiting for the chicken frie...</td>\n",
       "    </tr>\n",
       "  </tbody>\n",
       "</table>\n",
       "</div>"
      ],
      "text/plain": [
       "   senti                                               text\n",
       "0      1  pretty awesome place it was neat being within ...\n",
       "1      0  the people who gave this place one star were r...\n",
       "2      0  wow this place is pure evil i went here to att...\n",
       "3      2  the tea here is delicious i got rose tea the f...\n",
       "4      0  dissapointedi was waiting for the chicken frie..."
      ]
     },
     "execution_count": 7,
     "metadata": {
      "tags": []
     },
     "output_type": "execute_result"
    }
   ],
   "source": [
    "df.head()"
   ]
  },
  {
   "cell_type": "code",
   "execution_count": null,
   "metadata": {
    "colab": {
     "base_uri": "https://localhost:8080/"
    },
    "id": "r8-poBHiSJAB",
    "outputId": "c0777dd0-6d9d-4511-9ede-c3926158ceeb"
   },
   "outputs": [
    {
     "data": {
      "text/plain": [
       "label    object\n",
       "text     object\n",
       "dtype: object"
      ]
     },
     "execution_count": 10,
     "metadata": {
      "tags": []
     },
     "output_type": "execute_result"
    }
   ],
   "source": [
    "df.dtypes"
   ]
  },
  {
   "cell_type": "code",
   "execution_count": 1,
   "metadata": {
    "id": "bF8N17fw1QAb"
   },
   "outputs": [],
   "source": [
    "import pickle"
   ]
  },
  {
   "cell_type": "code",
   "execution_count": null,
   "metadata": {
    "id": "9fY4IDRHQq_f"
   },
   "outputs": [],
   "source": []
  },
  {
   "cell_type": "code",
   "execution_count": 6,
   "metadata": {
    "id": "ygqybSiOQq6J"
   },
   "outputs": [],
   "source": [
    "data = pd.read_csv(\"/content/gdrive/My Drive/Project/English_data90k.csv\") "
   ]
  },
  {
   "cell_type": "code",
   "execution_count": 7,
   "metadata": {
    "colab": {
     "base_uri": "https://localhost:8080/",
     "height": 197
    },
    "id": "GA4flwoqQq3m",
    "outputId": "ef69bc8b-099d-4bf7-fcba-714c7717c1a3"
   },
   "outputs": [
    {
     "data": {
      "text/html": [
       "<div>\n",
       "<style scoped>\n",
       "    .dataframe tbody tr th:only-of-type {\n",
       "        vertical-align: middle;\n",
       "    }\n",
       "\n",
       "    .dataframe tbody tr th {\n",
       "        vertical-align: top;\n",
       "    }\n",
       "\n",
       "    .dataframe thead th {\n",
       "        text-align: right;\n",
       "    }\n",
       "</style>\n",
       "<table border=\"1\" class=\"dataframe\">\n",
       "  <thead>\n",
       "    <tr style=\"text-align: right;\">\n",
       "      <th></th>\n",
       "      <th>senti</th>\n",
       "      <th>text</th>\n",
       "    </tr>\n",
       "  </thead>\n",
       "  <tbody>\n",
       "    <tr>\n",
       "      <th>0</th>\n",
       "      <td>1</td>\n",
       "      <td>pretty awesome place it was neat being within ...</td>\n",
       "    </tr>\n",
       "    <tr>\n",
       "      <th>1</th>\n",
       "      <td>0</td>\n",
       "      <td>the people who gave this place one star were r...</td>\n",
       "    </tr>\n",
       "    <tr>\n",
       "      <th>2</th>\n",
       "      <td>0</td>\n",
       "      <td>wow this place is pure evil i went here to att...</td>\n",
       "    </tr>\n",
       "    <tr>\n",
       "      <th>3</th>\n",
       "      <td>2</td>\n",
       "      <td>the tea here is delicious i got rose tea the f...</td>\n",
       "    </tr>\n",
       "    <tr>\n",
       "      <th>4</th>\n",
       "      <td>0</td>\n",
       "      <td>dissapointedi was waiting for the chicken frie...</td>\n",
       "    </tr>\n",
       "  </tbody>\n",
       "</table>\n",
       "</div>"
      ],
      "text/plain": [
       "   senti                                               text\n",
       "0      1  pretty awesome place it was neat being within ...\n",
       "1      0  the people who gave this place one star were r...\n",
       "2      0  wow this place is pure evil i went here to att...\n",
       "3      2  the tea here is delicious i got rose tea the f...\n",
       "4      0  dissapointedi was waiting for the chicken frie..."
      ]
     },
     "execution_count": 7,
     "metadata": {
      "tags": []
     },
     "output_type": "execute_result"
    }
   ],
   "source": [
    "data.head()"
   ]
  },
  {
   "cell_type": "code",
   "execution_count": 8,
   "metadata": {
    "id": "6JLdlS2yLW8i"
   },
   "outputs": [],
   "source": [
    "Y = pd.get_dummies(data[\"senti\"])"
   ]
  },
  {
   "cell_type": "code",
   "execution_count": 9,
   "metadata": {
    "id": "OjyDlWhwLkpT"
   },
   "outputs": [],
   "source": [
    "# loading\n",
    "with open('/content/tokenizer90k.pickle', 'rb') as handle:\n",
    "    tokenizer = pickle.load(handle)"
   ]
  },
  {
   "cell_type": "code",
   "execution_count": 9,
   "metadata": {
    "id": "oYajUoulLklj"
   },
   "outputs": [],
   "source": []
  },
  {
   "cell_type": "code",
   "execution_count": 10,
   "metadata": {
    "id": "Rk3NSgMSLW5g"
   },
   "outputs": [],
   "source": [
    "X = pad_sequences(tokenizer.texts_to_sequences(data[\"text\"]))"
   ]
  },
  {
   "cell_type": "code",
   "execution_count": 13,
   "metadata": {
    "colab": {
     "base_uri": "https://localhost:8080/"
    },
    "id": "p-RffGXDLW4P",
    "outputId": "836c03c2-902a-4c09-9b24-944bbb9a5074"
   },
   "outputs": [
    {
     "name": "stdout",
     "output_type": "stream",
     "text": [
      "WARNING:tensorflow:Layer lstm will not use cuDNN kernel since it doesn't meet the cuDNN kernel criteria. It will use generic GPU kernel as fallback when running on GPU\n"
     ]
    }
   ],
   "source": [
    "model = load_model(\"/content/eng90kag_e2.h5\")"
   ]
  },
  {
   "cell_type": "code",
   "execution_count": 11,
   "metadata": {
    "id": "WDC_dxZKLW1K"
   },
   "outputs": [],
   "source": [
    "X_train, X_test, y_train, y_test = train_test_split(X, Y, test_size=0.3, random_state=40)"
   ]
  },
  {
   "cell_type": "code",
   "execution_count": 12,
   "metadata": {
    "colab": {
     "base_uri": "https://localhost:8080/"
    },
    "id": "J0uLY1pjMRCd",
    "outputId": "97fd0540-9d55-4de9-d0be-160d370f00af"
   },
   "outputs": [
    {
     "name": "stdout",
     "output_type": "stream",
     "text": [
      "(63000, 981) (63000, 3)\n",
      "(27000, 981) (27000, 3)\n"
     ]
    }
   ],
   "source": [
    "print(X_train.shape,y_train.shape)\n",
    "print(X_test.shape,y_test.shape)"
   ]
  },
  {
   "cell_type": "code",
   "execution_count": 14,
   "metadata": {
    "colab": {
     "base_uri": "https://localhost:8080/"
    },
    "id": "V1wJlfzXMRBK",
    "outputId": "f14bfa2e-66be-4bd2-a32a-e91469005e7b"
   },
   "outputs": [
    {
     "name": "stdout",
     "output_type": "stream",
     "text": [
      "Epoch 2\n",
      "Test Accuracy\n",
      "844/844 [==============================] - 211s 251ms/step - loss: 0.3970 - accuracy: 0.8473\n",
      "[0.3970273435115814, 0.8472962975502014]\n",
      "\n",
      "Train Accuracy\n",
      "1969/1969 [==============================] - 490s 249ms/step - loss: 0.3015 - accuracy: 0.8881\n",
      "[0.30146360397338867, 0.8880952596664429]\n"
     ]
    }
   ],
   "source": [
    "print(\"Epoch 2\")\n",
    "print(\"Test Accuracy\")\n",
    "print(model.evaluate(X_test, y_test))\n",
    "print()\n",
    "print(\"Train Accuracy\")\n",
    "print(model.evaluate(X_train, y_train))\n",
    "model.save(\"eng90kag_e2.h5\")"
   ]
  },
  {
   "cell_type": "code",
   "execution_count": null,
   "metadata": {
    "id": "yFATcAYmMQ-l"
   },
   "outputs": [],
   "source": []
  },
  {
   "cell_type": "code",
   "execution_count": 15,
   "metadata": {
    "colab": {
     "base_uri": "https://localhost:8080/"
    },
    "id": "9T3ZyHgSMQ7W",
    "outputId": "e6d526d5-b619-48da-dbff-f29dc9001783"
   },
   "outputs": [
    {
     "name": "stdout",
     "output_type": "stream",
     "text": [
      "Epoch 3\n",
      "886/886 [==============================] - 3157s 4s/step - loss: 0.3252 - accuracy: 0.8783 - val_loss: 0.3921 - val_accuracy: 0.8476\n",
      "Test Accuracy\n",
      "844/844 [==============================] - 210s 249ms/step - loss: 0.4075 - accuracy: 0.8488\n",
      "[0.40750256180763245, 0.8487777709960938]\n",
      "\n",
      "Train Accuracy\n",
      "1969/1969 [==============================] - 488s 248ms/step - loss: 0.2732 - accuracy: 0.8959\n",
      "[0.2732376754283905, 0.8958730101585388]\n",
      "\n",
      "Epoch 4\n",
      "886/886 [==============================] - 3168s 4s/step - loss: 0.2812 - accuracy: 0.8956 - val_loss: 0.3616 - val_accuracy: 0.8630\n",
      "Test Accuracy\n",
      "844/844 [==============================] - 208s 247ms/step - loss: 0.3776 - accuracy: 0.8572\n",
      "[0.37756624817848206, 0.8571851849555969]\n",
      "\n",
      "Train Accuracy\n",
      "1969/1969 [==============================] - 486s 247ms/step - loss: 0.2287 - accuracy: 0.9185\n",
      "[0.2287002056837082, 0.9184920787811279]\n",
      "\n",
      "Epoch 5\n",
      "886/886 [==============================] - 3164s 4s/step - loss: 0.2424 - accuracy: 0.9090 - val_loss: 0.3701 - val_accuracy: 0.8619\n",
      "Test Accuracy\n",
      "844/844 [==============================] - 206s 244ms/step - loss: 0.3883 - accuracy: 0.8603\n",
      "[0.3882690370082855, 0.8602592349052429]\n",
      "\n",
      "Train Accuracy\n",
      "1969/1969 [==============================] - 484s 246ms/step - loss: 0.1975 - accuracy: 0.9301\n",
      "[0.19747638702392578, 0.9300634860992432]\n",
      "\n",
      "Epoch 6\n",
      "886/886 [==============================] - 3156s 4s/step - loss: 0.2176 - accuracy: 0.9197 - val_loss: 0.3843 - val_accuracy: 0.8633\n",
      "Test Accuracy\n",
      "844/844 [==============================] - 205s 243ms/step - loss: 0.3979 - accuracy: 0.8579\n",
      "[0.39789703488349915, 0.8579259514808655]\n",
      "\n",
      "Train Accuracy\n",
      "1969/1969 [==============================] - 486s 247ms/step - loss: 0.1781 - accuracy: 0.9379\n",
      "[0.17812177538871765, 0.9379047751426697]\n",
      "\n",
      "Epoch 7\n",
      "886/886 [==============================] - 3140s 4s/step - loss: 0.1877 - accuracy: 0.9310 - val_loss: 0.4130 - val_accuracy: 0.8576\n",
      "Test Accuracy\n",
      "844/844 [==============================] - 206s 244ms/step - loss: 0.4371 - accuracy: 0.8576\n",
      "[0.4371046721935272, 0.857629656791687]\n",
      "\n",
      "Train Accuracy\n",
      "1969/1969 [==============================] - 489s 249ms/step - loss: 0.1532 - accuracy: 0.9485\n",
      "[0.15316060185432434, 0.9485238194465637]\n",
      "\n"
     ]
    }
   ],
   "source": [
    "for i in range(3, 8):\n",
    "    print(\"Epoch\",i)\n",
    "    model.fit(X_train, y_train, epochs=1, batch_size = 64, validation_split=0.1) \n",
    "    \n",
    "    print(\"Test Accuracy\")\n",
    "    print(model.evaluate(X_test, y_test))\n",
    "    print()\n",
    "    print(\"Train Accuracy\")\n",
    "    print(model.evaluate(X_train, y_train))\n",
    "    model.save(f\"eng90kgc_e{i}.h5\")\n",
    "    print()"
   ]
  },
  {
   "cell_type": "code",
   "execution_count": null,
   "metadata": {
    "id": "MSStbuNtMQY7"
   },
   "outputs": [],
   "source": []
  },
  {
   "cell_type": "code",
   "execution_count": null,
   "metadata": {},
   "outputs": [],
   "source": []
  },
  {
   "cell_type": "code",
   "execution_count": null,
   "metadata": {},
   "outputs": [],
   "source": []
  }
 ],
 "metadata": {
  "accelerator": "GPU",
  "colab": {
   "collapsed_sections": [],
   "name": "project.ipynb",
   "provenance": []
  },
  "kernelspec": {
   "display_name": "Python 3",
   "language": "python",
   "name": "python3"
  },
  "language_info": {
   "codemirror_mode": {
    "name": "ipython",
    "version": 3
   },
   "file_extension": ".py",
   "mimetype": "text/x-python",
   "name": "python",
   "nbconvert_exporter": "python",
   "pygments_lexer": "ipython3",
   "version": "3.6.5"
  }
 },
 "nbformat": 4,
 "nbformat_minor": 1
}
