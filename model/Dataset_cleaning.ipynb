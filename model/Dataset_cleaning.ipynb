{
 "cells": [
  {
   "cell_type": "code",
   "execution_count": 1,
   "metadata": {},
   "outputs": [],
   "source": [
    "import pandas as pd\n",
    "import matplotlib.pyplot as plt"
   ]
  },
  {
   "cell_type": "code",
   "execution_count": 2,
   "metadata": {},
   "outputs": [
    {
     "name": "stderr",
     "output_type": "stream",
     "text": [
      "C:\\Anaconda3\\lib\\site-packages\\IPython\\core\\interactiveshell.py:2785: DtypeWarning: Columns (0) have mixed types. Specify dtype option on import or set low_memory=False.\n",
      "  interactivity=interactivity, compiler=compiler, result=result)\n"
     ]
    }
   ],
   "source": [
    "df = pd.read_csv(\"train.csv\") "
   ]
  },
  {
   "cell_type": "code",
   "execution_count": 3,
   "metadata": {},
   "outputs": [
    {
     "data": {
      "text/html": [
       "<div>\n",
       "<style scoped>\n",
       "    .dataframe tbody tr th:only-of-type {\n",
       "        vertical-align: middle;\n",
       "    }\n",
       "\n",
       "    .dataframe tbody tr th {\n",
       "        vertical-align: top;\n",
       "    }\n",
       "\n",
       "    .dataframe thead th {\n",
       "        text-align: right;\n",
       "    }\n",
       "</style>\n",
       "<table border=\"1\" class=\"dataframe\">\n",
       "  <thead>\n",
       "    <tr style=\"text-align: right;\">\n",
       "      <th></th>\n",
       "      <th>label</th>\n",
       "      <th>text</th>\n",
       "    </tr>\n",
       "  </thead>\n",
       "  <tbody>\n",
       "    <tr>\n",
       "      <th>0</th>\n",
       "      <td>1</td>\n",
       "      <td>Great mobile app with nice reward program. Mak...</td>\n",
       "    </tr>\n",
       "    <tr>\n",
       "      <th>1</th>\n",
       "      <td>2</td>\n",
       "      <td>Really fast and polite. Definitely recommend. ...</td>\n",
       "    </tr>\n",
       "    <tr>\n",
       "      <th>2</th>\n",
       "      <td>2</td>\n",
       "      <td>This place is always amazing, friendly staff a...</td>\n",
       "    </tr>\n",
       "    <tr>\n",
       "      <th>3</th>\n",
       "      <td>1</td>\n",
       "      <td>We did a Wine 101 class on a Friday night. Coo...</td>\n",
       "    </tr>\n",
       "    <tr>\n",
       "      <th>4</th>\n",
       "      <td>1</td>\n",
       "      <td>I am rounding up because I think this place ma...</td>\n",
       "    </tr>\n",
       "  </tbody>\n",
       "</table>\n",
       "</div>"
      ],
      "text/plain": [
       "  label                                               text\n",
       "0     1  Great mobile app with nice reward program. Mak...\n",
       "1     2  Really fast and polite. Definitely recommend. ...\n",
       "2     2  This place is always amazing, friendly staff a...\n",
       "3     1  We did a Wine 101 class on a Friday night. Coo...\n",
       "4     1  I am rounding up because I think this place ma..."
      ]
     },
     "execution_count": 3,
     "metadata": {},
     "output_type": "execute_result"
    }
   ],
   "source": [
    "df.head()"
   ]
  },
  {
   "cell_type": "code",
   "execution_count": 4,
   "metadata": {},
   "outputs": [
    {
     "data": {
      "text/plain": [
       "label    object\n",
       "text     object\n",
       "dtype: object"
      ]
     },
     "execution_count": 4,
     "metadata": {},
     "output_type": "execute_result"
    }
   ],
   "source": [
    "df.dtypes"
   ]
  },
  {
   "cell_type": "code",
   "execution_count": null,
   "metadata": {},
   "outputs": [],
   "source": []
  },
  {
   "cell_type": "code",
   "execution_count": null,
   "metadata": {},
   "outputs": [],
   "source": []
  },
  {
   "cell_type": "code",
   "execution_count": null,
   "metadata": {},
   "outputs": [],
   "source": []
  },
  {
   "cell_type": "code",
   "execution_count": 5,
   "metadata": {},
   "outputs": [
    {
     "data": {
      "text/html": [
       "<div>\n",
       "<style scoped>\n",
       "    .dataframe tbody tr th:only-of-type {\n",
       "        vertical-align: middle;\n",
       "    }\n",
       "\n",
       "    .dataframe tbody tr th {\n",
       "        vertical-align: top;\n",
       "    }\n",
       "\n",
       "    .dataframe thead th {\n",
       "        text-align: right;\n",
       "    }\n",
       "</style>\n",
       "<table border=\"1\" class=\"dataframe\">\n",
       "  <thead>\n",
       "    <tr style=\"text-align: right;\">\n",
       "      <th></th>\n",
       "      <th>label</th>\n",
       "      <th>text</th>\n",
       "    </tr>\n",
       "  </thead>\n",
       "  <tbody>\n",
       "    <tr>\n",
       "      <th>count</th>\n",
       "      <td>400001</td>\n",
       "      <td>400000</td>\n",
       "    </tr>\n",
       "    <tr>\n",
       "      <th>unique</th>\n",
       "      <td>7</td>\n",
       "      <td>399958</td>\n",
       "    </tr>\n",
       "    <tr>\n",
       "      <th>top</th>\n",
       "      <td>2</td>\n",
       "      <td>BASELINE and GREENFIELD location SUCKS!!! I gu...</td>\n",
       "    </tr>\n",
       "    <tr>\n",
       "      <th>freq</th>\n",
       "      <td>164201</td>\n",
       "      <td>2</td>\n",
       "    </tr>\n",
       "  </tbody>\n",
       "</table>\n",
       "</div>"
      ],
      "text/plain": [
       "         label                                               text\n",
       "count   400001                                             400000\n",
       "unique       7                                             399958\n",
       "top          2  BASELINE and GREENFIELD location SUCKS!!! I gu...\n",
       "freq    164201                                                  2"
      ]
     },
     "execution_count": 5,
     "metadata": {},
     "output_type": "execute_result"
    }
   ],
   "source": [
    "df.describe()"
   ]
  },
  {
   "cell_type": "code",
   "execution_count": 6,
   "metadata": {},
   "outputs": [
    {
     "data": {
      "text/plain": [
       "array([1, 2, 0, '1', '2', '0',\n",
       "       'My husband and I had not purchased a home before and we definitely needed some hand holding. They were patient and professional. We got our dream home and the entire experience was awesome! Thank you so much ladies for a job well done!'],\n",
       "      dtype=object)"
      ]
     },
     "execution_count": 6,
     "metadata": {},
     "output_type": "execute_result"
    }
   ],
   "source": [
    "df[\"label\"].unique()"
   ]
  },
  {
   "cell_type": "code",
   "execution_count": 7,
   "metadata": {},
   "outputs": [
    {
     "data": {
      "text/html": [
       "<div>\n",
       "<style scoped>\n",
       "    .dataframe tbody tr th:only-of-type {\n",
       "        vertical-align: middle;\n",
       "    }\n",
       "\n",
       "    .dataframe tbody tr th {\n",
       "        vertical-align: top;\n",
       "    }\n",
       "\n",
       "    .dataframe thead th {\n",
       "        text-align: right;\n",
       "    }\n",
       "</style>\n",
       "<table border=\"1\" class=\"dataframe\">\n",
       "  <thead>\n",
       "    <tr style=\"text-align: right;\">\n",
       "      <th></th>\n",
       "      <th>label</th>\n",
       "      <th>text</th>\n",
       "    </tr>\n",
       "  </thead>\n",
       "  <tbody>\n",
       "    <tr>\n",
       "      <th>273514</th>\n",
       "      <td>My husband and I had not purchased a home befo...</td>\n",
       "      <td>NaN</td>\n",
       "    </tr>\n",
       "  </tbody>\n",
       "</table>\n",
       "</div>"
      ],
      "text/plain": [
       "                                                    label text\n",
       "273514  My husband and I had not purchased a home befo...  NaN"
      ]
     },
     "execution_count": 7,
     "metadata": {},
     "output_type": "execute_result"
    }
   ],
   "source": [
    "df.loc[df[\"label\"] == 'My husband and I had not purchased a home before and we definitely needed some hand holding. They were patient and professional. We got our dream home and the entire experience was awesome! Thank you so much ladies for a job well done!']"
   ]
  },
  {
   "cell_type": "code",
   "execution_count": 8,
   "metadata": {},
   "outputs": [],
   "source": [
    "df.drop(df.index[273514], inplace = True)"
   ]
  },
  {
   "cell_type": "code",
   "execution_count": 9,
   "metadata": {},
   "outputs": [],
   "source": [
    "df[\"label\"] = pd.to_numeric(df[\"label\"].values)"
   ]
  },
  {
   "cell_type": "code",
   "execution_count": null,
   "metadata": {},
   "outputs": [],
   "source": []
  },
  {
   "cell_type": "code",
   "execution_count": 10,
   "metadata": {},
   "outputs": [
    {
     "data": {
      "text/plain": [
       "<matplotlib.axes._subplots.AxesSubplot at 0x2c6b9d44cc0>"
      ]
     },
     "execution_count": 10,
     "metadata": {},
     "output_type": "execute_result"
    },
    {
     "data": {
      "image/png": "[encoded data removed]",
      "text/plain": [
       "<Figure size 432x288 with 1 Axes>"
      ]
     },
     "metadata": {},
     "output_type": "display_data"
    }
   ],
   "source": [
    "a = df['label'].value_counts()#.plot.bar()\n",
    "a.plot.bar()"
   ]
  },
  {
   "cell_type": "code",
   "execution_count": 11,
   "metadata": {},
   "outputs": [
    {
     "data": {
      "text/plain": [
       "2    250535\n",
       "0     81300\n",
       "1     68165\n",
       "Name: label, dtype: int64"
      ]
     },
     "execution_count": 11,
     "metadata": {},
     "output_type": "execute_result"
    }
   ],
   "source": [
    "df[\"label\"].value_counts(dropna = False)"
   ]
  },
  {
   "cell_type": "code",
   "execution_count": 130,
   "metadata": {},
   "outputs": [
    {
     "data": {
      "text/plain": [
       "label    0.650586\n",
       "dtype: float64"
      ]
     },
     "execution_count": 130,
     "metadata": {},
     "output_type": "execute_result"
    }
   ],
   "source": [
    "df.var()"
   ]
  },
  {
   "cell_type": "code",
   "execution_count": 159,
   "metadata": {},
   "outputs": [
    {
     "data": {
      "image/png": "[encoded data removed]",
      "text/plain": [
       "<Figure size 432x288 with 1 Axes>"
      ]
     },
     "metadata": {},
     "output_type": "display_data"
    }
   ],
   "source": [
    "df = pd.DataFrame({'Sentiment':['Positive', 'Neutral', 'Negative'], 'val':[250535, 68165, 81300]})\n",
    "ax = df.plot.bar(x='Sentiment', y='val' , legend = False, align=\"center\", ec=\"silver\", width=0.4, color = [\"paleturquoise\",\"thistle\",\"peachpuff\"])\n"
   ]
  },
  {
   "cell_type": "code",
   "execution_count": 243,
   "metadata": {},
   "outputs": [
    {
     "data": {
      "text/plain": [
       "Text(1.83,67300,'81300')"
      ]
     },
     "execution_count": 243,
     "metadata": {},
     "output_type": "execute_result"
    },
    {
     "data": {
      "image/png": "[encoded data removed]",
      "text/plain": [
       "<Figure size 360x288 with 1 Axes>"
      ]
     },
     "metadata": {},
     "output_type": "display_data"
    }
   ],
   "source": [
    "x = ['Positive', 'Neutral', 'Negative']\n",
    "y = [250535, 68165, 81300]\n",
    "plt.figure(figsize=(5,4))\n",
    "\n",
    "plt.bar(x, y,   ec=\"silver\", align=\"center\",width=0.6,color = [\"paleturquoise\",\"thistle\",\"peachpuff\"])\n",
    "\n",
    "\n",
    "plt.text(0-0.21,250535-14000, str(250535),fontsize=11,color=\"teal\")\n",
    "plt.text(1-0.175,68165-14000, str(68165),fontsize=11,color=\"rebeccapurple\")\n",
    "plt.text(2-0.17,81300-14000, str(81300),fontsize=11,color=\"tomato\")"
   ]
  },
  {
   "cell_type": "code",
   "execution_count": 28,
   "metadata": {},
   "outputs": [
    {
     "name": "stdout",
     "output_type": "stream",
     "text": [
      "Collecting langdetect\n",
      "  Downloading langdetect-1.0.8.tar.gz (981 kB)\n",
      "Requirement already satisfied: six in c:\\anaconda3\\lib\\site-packages (from langdetect) (1.11.0)\n",
      "Building wheels for collected packages: langdetect\n",
      "  Building wheel for langdetect (setup.py): started\n",
      "  Building wheel for langdetect (setup.py): finished with status 'done'\n",
      "  Created wheel for langdetect: filename=langdetect-1.0.8-py3-none-any.whl size=992043 sha256=21c849d8660c3b11fa6f1455132b7a7b6778d010a156b2808d7c0e17c8feda81\n",
      "  Stored in directory: c:\\users\\dell\\appdata\\local\\pip\\cache\\wheels\\53\\88\\5d\\b239dc55d773b01fdd2059606b1a8f4b64548848b8f6e381c3\n",
      "Successfully built langdetect\n",
      "Installing collected packages: langdetect\n",
      "Successfully installed langdetect-1.0.8\n"
     ]
    },
    {
     "name": "stderr",
     "output_type": "stream",
     "text": [
      "WARNING: You are using pip version 20.1.1; however, version 20.2.4 is available.\n",
      "You should consider upgrading via the 'c:\\anaconda3\\python.exe -m pip install --upgrade pip' command.\n"
     ]
    }
   ],
   "source": [
    "!pip install  langdetect \n"
   ]
  },
  {
   "cell_type": "code",
   "execution_count": 3,
   "metadata": {},
   "outputs": [
    {
     "data": {
      "text/plain": [
       "'en'"
      ]
     },
     "execution_count": 3,
     "metadata": {},
     "output_type": "execute_result"
    }
   ],
   "source": [
    "detect(\"voice is best but aap baar singer ho kya pichhe toh khali bear whiskey rum aur glass dikhai de raha \")"
   ]
  },
  {
   "cell_type": "code",
   "execution_count": 11,
   "metadata": {},
   "outputs": [
    {
     "data": {
      "text/plain": [
       "en:7"
      ]
     },
     "execution_count": 11,
     "metadata": {},
     "output_type": "execute_result"
    }
   ],
   "source": [
    "language.Language(\"en\",7)"
   ]
  },
  {
   "cell_type": "code",
   "execution_count": 4,
   "metadata": {},
   "outputs": [
    {
     "data": {
      "text/plain": [
       "'et'"
      ]
     },
     "execution_count": 4,
     "metadata": {},
     "output_type": "execute_result"
    }
   ],
   "source": [
    "detect(\"Hi tum kse ho?\")"
   ]
  },
  {
   "cell_type": "code",
   "execution_count": 1,
   "metadata": {},
   "outputs": [],
   "source": [
    "from langdetect import detect, language"
   ]
  },
  {
   "cell_type": "code",
   "execution_count": 27,
   "metadata": {},
   "outputs": [
    {
     "data": {
      "text/plain": [
       "(400000, 2)"
      ]
     },
     "execution_count": 27,
     "metadata": {},
     "output_type": "execute_result"
    }
   ],
   "source": [
    "df.shape"
   ]
  },
  {
   "cell_type": "code",
   "execution_count": null,
   "metadata": {},
   "outputs": [],
   "source": []
  },
  {
   "cell_type": "code",
   "execution_count": null,
   "metadata": {},
   "outputs": [],
   "source": [
    "for i in range(df.shape[0]):\n",
    "    "
   ]
  },
  {
   "cell_type": "code",
   "execution_count": 32,
   "metadata": {},
   "outputs": [],
   "source": [
    "import tqdm"
   ]
  },
  {
   "cell_type": "code",
   "execution_count": 34,
   "metadata": {},
   "outputs": [],
   "source": [
    "data_eng = pd.DataFrame(columns=[\"senti\", \"text\"])\n",
    "data_other = pd.DataFrame(columns=[\"senti\", \"text\", \"lang\"])"
   ]
  },
  {
   "cell_type": "code",
   "execution_count": 46,
   "metadata": {},
   "outputs": [
    {
     "data": {
      "text/html": [
       "<div>\n",
       "<style scoped>\n",
       "    .dataframe tbody tr th:only-of-type {\n",
       "        vertical-align: middle;\n",
       "    }\n",
       "\n",
       "    .dataframe tbody tr th {\n",
       "        vertical-align: top;\n",
       "    }\n",
       "\n",
       "    .dataframe thead th {\n",
       "        text-align: right;\n",
       "    }\n",
       "</style>\n",
       "<table border=\"1\" class=\"dataframe\">\n",
       "  <thead>\n",
       "    <tr style=\"text-align: right;\">\n",
       "      <th></th>\n",
       "      <th>senti</th>\n",
       "      <th>text</th>\n",
       "      <th>lang</th>\n",
       "    </tr>\n",
       "  </thead>\n",
       "  <tbody>\n",
       "    <tr>\n",
       "      <th>0</th>\n",
       "      <td>1</td>\n",
       "      <td>helllllllo</td>\n",
       "      <td>en</td>\n",
       "    </tr>\n",
       "  </tbody>\n",
       "</table>\n",
       "</div>"
      ],
      "text/plain": [
       "  senti        text lang\n",
       "0     1  helllllllo   en"
      ]
     },
     "execution_count": 46,
     "metadata": {},
     "output_type": "execute_result"
    }
   ],
   "source": [
    "# data_eng.append({\"senti\":1,\"text\":\"helllllllo\",\"lang\":\"en\"}, ignore_index=True)"
   ]
  },
  {
   "cell_type": "code",
   "execution_count": 39,
   "metadata": {},
   "outputs": [],
   "source": [
    "import time"
   ]
  },
  {
   "cell_type": "code",
   "execution_count": 53,
   "metadata": {},
   "outputs": [],
   "source": [
    "data = df.sample(11000)"
   ]
  },
  {
   "cell_type": "code",
   "execution_count": 54,
   "metadata": {},
   "outputs": [
    {
     "name": "stderr",
     "output_type": "stream",
     "text": [
      "ERROR: Could not find a version that satisfies the requirement re (from versions: none)\n",
      "ERROR: No matching distribution found for re\n",
      "WARNING: You are using pip version 20.1.1; however, version 20.2.4 is available.\n",
      "You should consider upgrading via the 'c:\\anaconda3\\python.exe -m pip install --upgrade pip' command.\n"
     ]
    }
   ],
   "source": [
    "!pip install re"
   ]
  },
  {
   "cell_type": "code",
   "execution_count": 55,
   "metadata": {},
   "outputs": [],
   "source": [
    "import re"
   ]
  },
  {
   "cell_type": "code",
   "execution_count": 96,
   "metadata": {},
   "outputs": [],
   "source": [
    "data_eng11 = pd.DataFrame(columns=[\"senti\", \"text\"])\n",
    "data_other11 = pd.DataFrame(columns=[\"senti\", \"text\", \"lang\"])"
   ]
  },
  {
   "cell_type": "code",
   "execution_count": 97,
   "metadata": {},
   "outputs": [
    {
     "name": "stderr",
     "output_type": "stream",
     "text": [
      "100%|████████████████████████████████████████████████████████████████████████| 400000/400000 [4:34:01<00:00, 24.33it/s]\n"
     ]
    }
   ],
   "source": [
    "for i in tqdm.tqdm(df.index):\n",
    "    a = detect(df[\"text\"][i])\n",
    "    if(a == \"en\"):\n",
    "        te = df[\"text\"][i]\n",
    "        te = re.sub(r'[^\\w\\s]', \"\", te).lower()\n",
    "        data_eng11 = data_eng11.append({\"senti\": df[\"label\"][i],\n",
    "                        \"text\" : te}, ignore_index = True)\n",
    "    else:\n",
    "        data_other11 = data_other11.append({\"senti\": df[\"label\"][i],\n",
    "                         \"text\" : df[\"text\"][i],\n",
    "                         \"lang\" : a}, ignore_index = True)\n",
    "    "
   ]
  },
  {
   "cell_type": "code",
   "execution_count": 99,
   "metadata": {},
   "outputs": [
    {
     "data": {
      "text/plain": [
       "(395931, 2)"
      ]
     },
     "execution_count": 99,
     "metadata": {},
     "output_type": "execute_result"
    }
   ],
   "source": [
    "data_eng11.shape"
   ]
  },
  {
   "cell_type": "code",
   "execution_count": 100,
   "metadata": {},
   "outputs": [
    {
     "data": {
      "text/plain": [
       "(4069, 3)"
      ]
     },
     "execution_count": 100,
     "metadata": {},
     "output_type": "execute_result"
    }
   ],
   "source": [
    "data_other11.shape"
   ]
  },
  {
   "cell_type": "code",
   "execution_count": 101,
   "metadata": {},
   "outputs": [],
   "source": [
    "data_eng11.to_csv(\"English_data.csv\", index = False)"
   ]
  },
  {
   "cell_type": "code",
   "execution_count": 102,
   "metadata": {},
   "outputs": [],
   "source": [
    "data_other11.to_csv(\"Other_data.csv\", index = False)"
   ]
  },
  {
   "cell_type": "code",
   "execution_count": 106,
   "metadata": {},
   "outputs": [
    {
     "data": {
      "text/html": [
       "<div>\n",
       "<style scoped>\n",
       "    .dataframe tbody tr th:only-of-type {\n",
       "        vertical-align: middle;\n",
       "    }\n",
       "\n",
       "    .dataframe tbody tr th {\n",
       "        vertical-align: top;\n",
       "    }\n",
       "\n",
       "    .dataframe thead th {\n",
       "        text-align: right;\n",
       "    }\n",
       "</style>\n",
       "<table border=\"1\" class=\"dataframe\">\n",
       "  <thead>\n",
       "    <tr style=\"text-align: right;\">\n",
       "      <th></th>\n",
       "      <th>senti</th>\n",
       "      <th>text</th>\n",
       "    </tr>\n",
       "  </thead>\n",
       "  <tbody>\n",
       "    <tr>\n",
       "      <th>0</th>\n",
       "      <td>1</td>\n",
       "      <td>great mobile app with nice reward program make...</td>\n",
       "    </tr>\n",
       "    <tr>\n",
       "      <th>1</th>\n",
       "      <td>2</td>\n",
       "      <td>really fast and polite definitely recommend al...</td>\n",
       "    </tr>\n",
       "    <tr>\n",
       "      <th>2</th>\n",
       "      <td>2</td>\n",
       "      <td>this place is always amazing friendly staff an...</td>\n",
       "    </tr>\n",
       "    <tr>\n",
       "      <th>3</th>\n",
       "      <td>1</td>\n",
       "      <td>we did a wine 101 class on a friday night cool...</td>\n",
       "    </tr>\n",
       "    <tr>\n",
       "      <th>4</th>\n",
       "      <td>1</td>\n",
       "      <td>i am rounding up because i think this place ma...</td>\n",
       "    </tr>\n",
       "  </tbody>\n",
       "</table>\n",
       "</div>"
      ],
      "text/plain": [
       "  senti                                               text\n",
       "0     1  great mobile app with nice reward program make...\n",
       "1     2  really fast and polite definitely recommend al...\n",
       "2     2  this place is always amazing friendly staff an...\n",
       "3     1  we did a wine 101 class on a friday night cool...\n",
       "4     1  i am rounding up because i think this place ma..."
      ]
     },
     "execution_count": 106,
     "metadata": {},
     "output_type": "execute_result"
    }
   ],
   "source": [
    "data_eng11.head()"
   ]
  },
  {
   "cell_type": "code",
   "execution_count": 138,
   "metadata": {},
   "outputs": [
    {
     "data": {
      "text/plain": [
       "2    248074\n",
       "0     80818\n",
       "1     67039\n",
       "Name: senti, dtype: int64"
      ]
     },
     "execution_count": 138,
     "metadata": {},
     "output_type": "execute_result"
    }
   ],
   "source": [
    "data_eng11[\"senti\"].value_counts()"
   ]
  },
  {
   "cell_type": "code",
   "execution_count": 140,
   "metadata": {},
   "outputs": [
    {
     "data": {
      "text/html": [
       "<div>\n",
       "<style scoped>\n",
       "    .dataframe tbody tr th:only-of-type {\n",
       "        vertical-align: middle;\n",
       "    }\n",
       "\n",
       "    .dataframe tbody tr th {\n",
       "        vertical-align: top;\n",
       "    }\n",
       "\n",
       "    .dataframe thead th {\n",
       "        text-align: right;\n",
       "    }\n",
       "</style>\n",
       "<table border=\"1\" class=\"dataframe\">\n",
       "  <thead>\n",
       "    <tr style=\"text-align: right;\">\n",
       "      <th></th>\n",
       "      <th>senti</th>\n",
       "      <th>text</th>\n",
       "    </tr>\n",
       "  </thead>\n",
       "  <tbody>\n",
       "    <tr>\n",
       "      <th>273236</th>\n",
       "      <td>0</td>\n",
       "      <td>although the hotel has a new and modern feel t...</td>\n",
       "    </tr>\n",
       "    <tr>\n",
       "      <th>45206</th>\n",
       "      <td>0</td>\n",
       "      <td>this place is terrible  extremely unprofession...</td>\n",
       "    </tr>\n",
       "    <tr>\n",
       "      <th>288218</th>\n",
       "      <td>0</td>\n",
       "      <td>why does this location allow people to stand o...</td>\n",
       "    </tr>\n",
       "    <tr>\n",
       "      <th>159458</th>\n",
       "      <td>0</td>\n",
       "      <td>damn d i loved you oh so much perfect environm...</td>\n",
       "    </tr>\n",
       "    <tr>\n",
       "      <th>159945</th>\n",
       "      <td>0</td>\n",
       "      <td>not coming back \\n\\nstopped by for their all y...</td>\n",
       "    </tr>\n",
       "    <tr>\n",
       "      <th>394082</th>\n",
       "      <td>0</td>\n",
       "      <td>do not move here the people in the office are ...</td>\n",
       "    </tr>\n",
       "    <tr>\n",
       "      <th>243452</th>\n",
       "      <td>0</td>\n",
       "      <td>i only yelp when i receive terrible service i ...</td>\n",
       "    </tr>\n",
       "    <tr>\n",
       "      <th>323122</th>\n",
       "      <td>0</td>\n",
       "      <td>ive come to the one on cheyenne and durango   ...</td>\n",
       "    </tr>\n",
       "    <tr>\n",
       "      <th>13104</th>\n",
       "      <td>0</td>\n",
       "      <td>this was a very disappointing dinner  we were ...</td>\n",
       "    </tr>\n",
       "    <tr>\n",
       "      <th>304223</th>\n",
       "      <td>0</td>\n",
       "      <td>closed i wanted to try this place i planned an...</td>\n",
       "    </tr>\n",
       "    <tr>\n",
       "      <th>143884</th>\n",
       "      <td>0</td>\n",
       "      <td>i have never waited less than 30 minutes in th...</td>\n",
       "    </tr>\n",
       "    <tr>\n",
       "      <th>288864</th>\n",
       "      <td>0</td>\n",
       "      <td>i travel a lot and this hotel sucks cosmetical...</td>\n",
       "    </tr>\n",
       "    <tr>\n",
       "      <th>208528</th>\n",
       "      <td>0</td>\n",
       "      <td>well my experience started out great  worked w...</td>\n",
       "    </tr>\n",
       "    <tr>\n",
       "      <th>165696</th>\n",
       "      <td>0</td>\n",
       "      <td>waste of time and money if i could leave zero ...</td>\n",
       "    </tr>\n",
       "    <tr>\n",
       "      <th>299944</th>\n",
       "      <td>0</td>\n",
       "      <td>not the same since new ownership</td>\n",
       "    </tr>\n",
       "    <tr>\n",
       "      <th>183552</th>\n",
       "      <td>0</td>\n",
       "      <td>i hadnt been to a dentist in years mainly beca...</td>\n",
       "    </tr>\n",
       "    <tr>\n",
       "      <th>162602</th>\n",
       "      <td>0</td>\n",
       "      <td>not clean worst gel manicure ever and ruined m...</td>\n",
       "    </tr>\n",
       "    <tr>\n",
       "      <th>178277</th>\n",
       "      <td>0</td>\n",
       "      <td>worst pharmacy i have been to i only came to t...</td>\n",
       "    </tr>\n",
       "    <tr>\n",
       "      <th>261302</th>\n",
       "      <td>0</td>\n",
       "      <td>i just had the chance to read what the owner r...</td>\n",
       "    </tr>\n",
       "    <tr>\n",
       "      <th>324349</th>\n",
       "      <td>0</td>\n",
       "      <td>stay as far away from this disaster of a store...</td>\n",
       "    </tr>\n",
       "  </tbody>\n",
       "</table>\n",
       "</div>"
      ],
      "text/plain": [
       "       senti                                               text\n",
       "273236     0  although the hotel has a new and modern feel t...\n",
       "45206      0  this place is terrible  extremely unprofession...\n",
       "288218     0  why does this location allow people to stand o...\n",
       "159458     0  damn d i loved you oh so much perfect environm...\n",
       "159945     0  not coming back \\n\\nstopped by for their all y...\n",
       "394082     0  do not move here the people in the office are ...\n",
       "243452     0  i only yelp when i receive terrible service i ...\n",
       "323122     0  ive come to the one on cheyenne and durango   ...\n",
       "13104      0  this was a very disappointing dinner  we were ...\n",
       "304223     0  closed i wanted to try this place i planned an...\n",
       "143884     0  i have never waited less than 30 minutes in th...\n",
       "288864     0  i travel a lot and this hotel sucks cosmetical...\n",
       "208528     0  well my experience started out great  worked w...\n",
       "165696     0  waste of time and money if i could leave zero ...\n",
       "299944     0                   not the same since new ownership\n",
       "183552     0  i hadnt been to a dentist in years mainly beca...\n",
       "162602     0  not clean worst gel manicure ever and ruined m...\n",
       "178277     0  worst pharmacy i have been to i only came to t...\n",
       "261302     0  i just had the chance to read what the owner r...\n",
       "324349     0  stay as far away from this disaster of a store..."
      ]
     },
     "execution_count": 140,
     "metadata": {},
     "output_type": "execute_result"
    }
   ],
   "source": [
    "data_eng11[data_eng11[\"senti\"] == 0].sample(20)"
   ]
  },
  {
   "cell_type": "code",
   "execution_count": 178,
   "metadata": {},
   "outputs": [
    {
     "name": "stdout",
     "output_type": "stream",
     "text": [
      "Negative Done!!!!!\n",
      "Neutral Done!!!!!\n",
      "Positive Done!!!!!\n",
      "Total Done!!!!!!!!!!!!!!!!!!!!!!!!!!!!\n"
     ]
    }
   ],
   "source": [
    "equaldata = pd.DataFrame(columns=[\"senti\", \"text\"])\n",
    "equaldata = equaldata.append(data_eng11[data_eng11[\"senti\"] == 0].sample(30000))\n",
    "print(\"Negative Done!!!!!\")\n",
    "equaldata = equaldata.append(data_eng11[data_eng11[\"senti\"] == 1].sample(30000))\n",
    "print(\"Neutral Done!!!!!\")\n",
    "equaldata = equaldata.append(data_eng11[data_eng11[\"senti\"] == 2].sample(30000))\n",
    "print(\"Positive Done!!!!!\")\n",
    "equaldata = equaldata.sample(frac = 1)\n",
    "print(\"Total Done!!!!!!!!!!!!!!!!!!!!!!!!!!!!\")"
   ]
  },
  {
   "cell_type": "code",
   "execution_count": 179,
   "metadata": {},
   "outputs": [
    {
     "data": {
      "text/html": [
       "<div>\n",
       "<style scoped>\n",
       "    .dataframe tbody tr th:only-of-type {\n",
       "        vertical-align: middle;\n",
       "    }\n",
       "\n",
       "    .dataframe tbody tr th {\n",
       "        vertical-align: top;\n",
       "    }\n",
       "\n",
       "    .dataframe thead th {\n",
       "        text-align: right;\n",
       "    }\n",
       "</style>\n",
       "<table border=\"1\" class=\"dataframe\">\n",
       "  <thead>\n",
       "    <tr style=\"text-align: right;\">\n",
       "      <th></th>\n",
       "      <th>senti</th>\n",
       "      <th>text</th>\n",
       "    </tr>\n",
       "  </thead>\n",
       "  <tbody>\n",
       "    <tr>\n",
       "      <th>155975</th>\n",
       "      <td>0</td>\n",
       "      <td>my food was terrible ordered chicken nuggets a...</td>\n",
       "    </tr>\n",
       "    <tr>\n",
       "      <th>217221</th>\n",
       "      <td>2</td>\n",
       "      <td>i may not have very much hair on my head but i...</td>\n",
       "    </tr>\n",
       "    <tr>\n",
       "      <th>211192</th>\n",
       "      <td>1</td>\n",
       "      <td>ematei is a restaurant that i have been going ...</td>\n",
       "    </tr>\n",
       "    <tr>\n",
       "      <th>115307</th>\n",
       "      <td>0</td>\n",
       "      <td>i went to this place to get a checkup for my b...</td>\n",
       "    </tr>\n",
       "    <tr>\n",
       "      <th>293698</th>\n",
       "      <td>0</td>\n",
       "      <td>this mcdonalds has been operating at this loca...</td>\n",
       "    </tr>\n",
       "  </tbody>\n",
       "</table>\n",
       "</div>"
      ],
      "text/plain": [
       "       senti                                               text\n",
       "155975     0  my food was terrible ordered chicken nuggets a...\n",
       "217221     2  i may not have very much hair on my head but i...\n",
       "211192     1  ematei is a restaurant that i have been going ...\n",
       "115307     0  i went to this place to get a checkup for my b...\n",
       "293698     0  this mcdonalds has been operating at this loca..."
      ]
     },
     "execution_count": 179,
     "metadata": {},
     "output_type": "execute_result"
    }
   ],
   "source": [
    "equaldata.head()"
   ]
  },
  {
   "cell_type": "code",
   "execution_count": 180,
   "metadata": {},
   "outputs": [],
   "source": [
    "equaldata.to_csv(\"English_data90k.csv\", index = False)"
   ]
  },
  {
   "cell_type": "code",
   "execution_count": null,
   "metadata": {},
   "outputs": [],
   "source": []
  },
  {
   "cell_type": "code",
   "execution_count": null,
   "metadata": {},
   "outputs": [],
   "source": []
  },
  {
   "cell_type": "code",
   "execution_count": 104,
   "metadata": {},
   "outputs": [],
   "source": [
    "a = pd.read_csv(\"Other_data.csv\")"
   ]
  },
  {
   "cell_type": "code",
   "execution_count": 105,
   "metadata": {},
   "outputs": [
    {
     "data": {
      "text/html": [
       "<div>\n",
       "<style scoped>\n",
       "    .dataframe tbody tr th:only-of-type {\n",
       "        vertical-align: middle;\n",
       "    }\n",
       "\n",
       "    .dataframe tbody tr th {\n",
       "        vertical-align: top;\n",
       "    }\n",
       "\n",
       "    .dataframe thead th {\n",
       "        text-align: right;\n",
       "    }\n",
       "</style>\n",
       "<table border=\"1\" class=\"dataframe\">\n",
       "  <thead>\n",
       "    <tr style=\"text-align: right;\">\n",
       "      <th></th>\n",
       "      <th>senti</th>\n",
       "      <th>text</th>\n",
       "      <th>lang</th>\n",
       "    </tr>\n",
       "  </thead>\n",
       "  <tbody>\n",
       "    <tr>\n",
       "      <th>0</th>\n",
       "      <td>0</td>\n",
       "      <td>Am 07.08.2014 war ich mit 5 Kollegen mittags i...</td>\n",
       "      <td>de</td>\n",
       "    </tr>\n",
       "    <tr>\n",
       "      <th>1</th>\n",
       "      <td>1</td>\n",
       "      <td>Nachdem wir jetzt das dritte Mal vor der Türe ...</td>\n",
       "      <td>de</td>\n",
       "    </tr>\n",
       "    <tr>\n",
       "      <th>2</th>\n",
       "      <td>1</td>\n",
       "      <td>¿La Eiffel Tower en Las Vegas?¿posta?¿es eso p...</td>\n",
       "      <td>es</td>\n",
       "    </tr>\n",
       "    <tr>\n",
       "      <th>3</th>\n",
       "      <td>2</td>\n",
       "      <td>Seit vier Jahren besuchen wir nun regelmäßig d...</td>\n",
       "      <td>de</td>\n",
       "    </tr>\n",
       "    <tr>\n",
       "      <th>4</th>\n",
       "      <td>2</td>\n",
       "      <td>Der Schlachthof fällt angenehm auf in der Essl...</td>\n",
       "      <td>de</td>\n",
       "    </tr>\n",
       "  </tbody>\n",
       "</table>\n",
       "</div>"
      ],
      "text/plain": [
       "   senti                                               text lang\n",
       "0      0  Am 07.08.2014 war ich mit 5 Kollegen mittags i...   de\n",
       "1      1  Nachdem wir jetzt das dritte Mal vor der Türe ...   de\n",
       "2      1  ¿La Eiffel Tower en Las Vegas?¿posta?¿es eso p...   es\n",
       "3      2  Seit vier Jahren besuchen wir nun regelmäßig d...   de\n",
       "4      2  Der Schlachthof fällt angenehm auf in der Essl...   de"
      ]
     },
     "execution_count": 105,
     "metadata": {},
     "output_type": "execute_result"
    }
   ],
   "source": [
    "a.head()"
   ]
  },
  {
   "cell_type": "code",
   "execution_count": null,
   "metadata": {},
   "outputs": [],
   "source": []
  },
  {
   "cell_type": "code",
   "execution_count": null,
   "metadata": {},
   "outputs": [],
   "source": []
  },
  {
   "cell_type": "code",
   "execution_count": null,
   "metadata": {},
   "outputs": [],
   "source": []
  },
  {
   "cell_type": "code",
   "execution_count": null,
   "metadata": {},
   "outputs": [],
   "source": []
  },
  {
   "cell_type": "code",
   "execution_count": 3,
   "metadata": {},
   "outputs": [],
   "source": [
    "data_eng = pd.read_csv(\"English_data90k.csv\")"
   ]
  },
  {
   "cell_type": "code",
   "execution_count": 4,
   "metadata": {},
   "outputs": [
    {
     "data": {
      "text/html": [
       "<div>\n",
       "<style scoped>\n",
       "    .dataframe tbody tr th:only-of-type {\n",
       "        vertical-align: middle;\n",
       "    }\n",
       "\n",
       "    .dataframe tbody tr th {\n",
       "        vertical-align: top;\n",
       "    }\n",
       "\n",
       "    .dataframe thead th {\n",
       "        text-align: right;\n",
       "    }\n",
       "</style>\n",
       "<table border=\"1\" class=\"dataframe\">\n",
       "  <thead>\n",
       "    <tr style=\"text-align: right;\">\n",
       "      <th></th>\n",
       "      <th>senti</th>\n",
       "      <th>text</th>\n",
       "    </tr>\n",
       "  </thead>\n",
       "  <tbody>\n",
       "    <tr>\n",
       "      <th>0</th>\n",
       "      <td>1</td>\n",
       "      <td>pretty awesome place it was neat being within ...</td>\n",
       "    </tr>\n",
       "    <tr>\n",
       "      <th>1</th>\n",
       "      <td>0</td>\n",
       "      <td>the people who gave this place one star were r...</td>\n",
       "    </tr>\n",
       "    <tr>\n",
       "      <th>2</th>\n",
       "      <td>0</td>\n",
       "      <td>wow this place is pure evil i went here to att...</td>\n",
       "    </tr>\n",
       "    <tr>\n",
       "      <th>3</th>\n",
       "      <td>2</td>\n",
       "      <td>the tea here is delicious i got rose tea the f...</td>\n",
       "    </tr>\n",
       "    <tr>\n",
       "      <th>4</th>\n",
       "      <td>0</td>\n",
       "      <td>dissapointedi was waiting for the chicken frie...</td>\n",
       "    </tr>\n",
       "  </tbody>\n",
       "</table>\n",
       "</div>"
      ],
      "text/plain": [
       "   senti                                               text\n",
       "0      1  pretty awesome place it was neat being within ...\n",
       "1      0  the people who gave this place one star were r...\n",
       "2      0  wow this place is pure evil i went here to att...\n",
       "3      2  the tea here is delicious i got rose tea the f...\n",
       "4      0  dissapointedi was waiting for the chicken frie..."
      ]
     },
     "execution_count": 4,
     "metadata": {},
     "output_type": "execute_result"
    }
   ],
   "source": [
    "data_eng.head()"
   ]
  },
  {
   "cell_type": "code",
   "execution_count": 7,
   "metadata": {},
   "outputs": [
    {
     "data": {
      "text/plain": [
       "14400"
      ]
     },
     "execution_count": 7,
     "metadata": {},
     "output_type": "execute_result"
    }
   ],
   "source": [
    "list(map(len,data_eng[\"text\"])).index(4913)"
   ]
  },
  {
   "cell_type": "code",
   "execution_count": 195,
   "metadata": {},
   "outputs": [],
   "source": [
    "from nltk.corpus import stopwords"
   ]
  },
  {
   "cell_type": "code",
   "execution_count": 196,
   "metadata": {},
   "outputs": [],
   "source": [
    "stopWords = set(stopwords.words('english'))"
   ]
  },
  {
   "cell_type": "code",
   "execution_count": 203,
   "metadata": {},
   "outputs": [
    {
     "name": "stdout",
     "output_type": "stream",
     "text": [
      "la kitchen boasts one best shanghai restaurants markham area located newer plaza behind first markham mall restaurant offers variety shangahis best dishes two friends joined family three establishment check see didnt really reservations going place saturday evening fortunate given seat right away restaurant 25 30 tables every table occupied minutes arrival lineup heading door checking menu decided four six dishes would trick feeding five us first item ordered really one appetizers vegetarian goose 599 basically bean curd wrapped around bamboo shoots tofu many vegetarians love dish purity simpleness personally im vegetarian found neither really liking hating tasteless dish really taste little salt dish told one healthier items next dish arrive probably absolute complete opposite first dish terms purity healthiness braised pork belly 1099 fatty salty one could ever meal probably one dishes healthy never present high cholesterol high blood pressure heart disease said many people still love order dish four pieces pork bellies richly fat well seasoned baby bok choys side focus pork bellies piece pork skin nice thick four pieces equal size absolutely delicious one type dishes everyone completely enjoy crab pork dumpling 625 arrived next four dumplings dish dumplings well placed pretty big inside dumpling pork crab meat previous postings dish recommended proceed eating dish extreme caution broth liquid inside dumplings often extremely hot often squirt right caution advised eating dish dumplings occasion satisfactory best pork little fatty crab meat barely registering particular evening one could also dip dumplings bowl vinegar sauce give extra taste unfortunately lack crab taste dumplings robs one feeling eating crab pork dumpling fried bread 425 also known man tou arrived soon afterwards exactly advertised one really could complain fried bread truthfully could one really screw something simple however placing dish table puzzled condensed milk came usually accompanies dish couple minutes notified one waitresses appeared little confused proceeded back get us condensed milk next dish arrive table egg white scallop 1399 dish basically contained steam broccoli bottom covered egg white egg yolk centre dish dish suppose come scallops one could see could seen pieces pieces relatively small count price one charging one would think would multiple rather large pieces scallops dish unfortunately case told overall dish salty seasoned despite egg scallops present somewhat surprising dish give taste overall dishes either little fatty little bland also order vegetable fish soup 1299 go dishes since planning order white rice evening personally dishes satisfactory although question whether prices truly reflect quality food food shanghai feel although better seasoning taste may help enrich many foods present decent experience however improvement quality certain would hurt one things one worry greyhound bus stops front restaurant could make restaurant go empty super full within minutes \n"
     ]
    }
   ],
   "source": [
    "def removestop\n",
    "for i in data_eng[\"text\"][13866].split():\n",
    "    if(i not in stopWords):\n",
    "        k+=i+\" \""
   ]
  },
  {
   "cell_type": "code",
   "execution_count": 205,
   "metadata": {},
   "outputs": [
    {
     "data": {
      "text/plain": [
       "3015"
      ]
     },
     "execution_count": 205,
     "metadata": {},
     "output_type": "execute_result"
    }
   ],
   "source": [
    "len(k)"
   ]
  },
  {
   "cell_type": "code",
   "execution_count": 206,
   "metadata": {},
   "outputs": [
    {
     "data": {
      "text/plain": [
       "4913"
      ]
     },
     "execution_count": 206,
     "metadata": {},
     "output_type": "execute_result"
    }
   ],
   "source": [
    "len(data_eng[\"text\"][13866])"
   ]
  },
  {
   "cell_type": "code",
   "execution_count": null,
   "metadata": {},
   "outputs": [],
   "source": []
  }
 ],
 "metadata": {
  "kernelspec": {
   "display_name": "Python 3",
   "language": "python",
   "name": "python3"
  },
  "language_info": {
   "codemirror_mode": {
    "name": "ipython",
    "version": 3
   },
   "file_extension": ".py",
   "mimetype": "text/x-python",
   "name": "python",
   "nbconvert_exporter": "python",
   "pygments_lexer": "ipython3",
   "version": "3.6.5"
  }
 },
 "nbformat": 4,
 "nbformat_minor": 2
}
